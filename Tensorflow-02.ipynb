{
 "cells": [
  {
   "cell_type": "markdown",
   "id": "ed16add0-5b03-45d9-a7c0-4bb784b9b9a2",
   "metadata": {},
   "source": [
    "# Creating Tensors with `tf.Variable()` Function\n",
    "A `tf.variable` maintains shared, persistent state manipulated by a program.\n",
    "\n",
    "The `Variable()` constructor requires an initial value for the variable, which can be a Tensor of any type and shape. This initial value defines the type and shape of the variable. After construction, the type and shape of the variable are fixed. The value can be changed using one of the assign methods."
   ]
  },
  {
   "cell_type": "code",
   "execution_count": 6,
   "id": "165b829c-17be-4b90-9518-5859d96b8547",
   "metadata": {},
   "outputs": [
    {
     "name": "stdout",
     "output_type": "stream",
     "text": [
      "2.14.0\n"
     ]
    }
   ],
   "source": [
    "# Import Tensorflow\n",
    "import tensorflow as tf\n",
    "print(tf.__version__)"
   ]
  },
  {
   "cell_type": "markdown",
   "id": "54a29da5-e973-466d-9069-fa87b7ffa2cc",
   "metadata": {},
   "source": [
    "### Create the same tensor with `tf.Varible()`"
   ]
  },
  {
   "cell_type": "code",
   "execution_count": 7,
   "id": "bf426cb8-ba56-4941-8b67-cdf3582261ca",
   "metadata": {},
   "outputs": [
    {
     "name": "stdout",
     "output_type": "stream",
     "text": [
      "<tf.Variable 'Variable:0' shape=(2,) dtype=int32, numpy=array([4, 8])>\n",
      "tf.Tensor([4 8], shape=(2,), dtype=int32)\n"
     ]
    }
   ],
   "source": [
    "var_tensor = tf.Variable([4, 8])\n",
    "const_tensor = tf.constant([4, 8])\n",
    "print(var_tensor)\n",
    "print(const_tensor)"
   ]
  },
  {
   "cell_type": "markdown",
   "id": "b6cceef0-60d0-49c9-9784-1fa1b159e0e5",
   "metadata": {},
   "source": [
    "Let's try to change one of the elements in our varible tensors with the help of `.assign()`."
   ]
  },
  {
   "cell_type": "code",
   "execution_count": 10,
   "id": "24265467-9f16-4421-8263-214fe598fb5c",
   "metadata": {},
   "outputs": [
    {
     "name": "stdout",
     "output_type": "stream",
     "text": [
      "<tf.Variable 'Variable:0' shape=(2,) dtype=int32, numpy=array([8, 8])>\n"
     ]
    }
   ],
   "source": [
    "var_tensor[0].assign(8)\n",
    "print(var_tensor)"
   ]
  },
  {
   "cell_type": "markdown",
   "id": "05dbf9e3-c17c-4c6c-b72e-2732c2ed982c",
   "metadata": {},
   "source": [
    "Now, this time we are going to try the same operation with constant tensor."
   ]
  },
  {
   "cell_type": "code",
   "execution_count": 11,
   "id": "e75d7766-0dce-4752-b342-16d797060e46",
   "metadata": {},
   "outputs": [
    {
     "ename": "AttributeError",
     "evalue": "'tensorflow.python.framework.ops.EagerTensor' object has no attribute 'assign'",
     "output_type": "error",
     "traceback": [
      "\u001b[1;31m---------------------------------------------------------------------------\u001b[0m",
      "\u001b[1;31mAttributeError\u001b[0m                            Traceback (most recent call last)",
      "Cell \u001b[1;32mIn[11], line 1\u001b[0m\n\u001b[1;32m----> 1\u001b[0m \u001b[43mconst_tensor\u001b[49m\u001b[43m[\u001b[49m\u001b[38;5;241;43m0\u001b[39;49m\u001b[43m]\u001b[49m\u001b[38;5;241;43m.\u001b[39;49m\u001b[43massign\u001b[49m(\u001b[38;5;241m8\u001b[39m)\n\u001b[0;32m      2\u001b[0m \u001b[38;5;28mprint\u001b[39m(const_tensor)\n",
      "File \u001b[1;32m~\\AppData\\Local\\Programs\\Python\\Python310\\lib\\site-packages\\tensorflow\\python\\framework\\tensor.py:261\u001b[0m, in \u001b[0;36mTensor.__getattr__\u001b[1;34m(self, name)\u001b[0m\n\u001b[0;32m    253\u001b[0m \u001b[38;5;28;01mif\u001b[39;00m name \u001b[38;5;129;01min\u001b[39;00m {\u001b[38;5;124m\"\u001b[39m\u001b[38;5;124mT\u001b[39m\u001b[38;5;124m\"\u001b[39m, \u001b[38;5;124m\"\u001b[39m\u001b[38;5;124mastype\u001b[39m\u001b[38;5;124m\"\u001b[39m, \u001b[38;5;124m\"\u001b[39m\u001b[38;5;124mravel\u001b[39m\u001b[38;5;124m\"\u001b[39m, \u001b[38;5;124m\"\u001b[39m\u001b[38;5;124mtranspose\u001b[39m\u001b[38;5;124m\"\u001b[39m, \u001b[38;5;124m\"\u001b[39m\u001b[38;5;124mreshape\u001b[39m\u001b[38;5;124m\"\u001b[39m, \u001b[38;5;124m\"\u001b[39m\u001b[38;5;124mclip\u001b[39m\u001b[38;5;124m\"\u001b[39m, \u001b[38;5;124m\"\u001b[39m\u001b[38;5;124msize\u001b[39m\u001b[38;5;124m\"\u001b[39m,\n\u001b[0;32m    254\u001b[0m             \u001b[38;5;124m\"\u001b[39m\u001b[38;5;124mtolist\u001b[39m\u001b[38;5;124m\"\u001b[39m, \u001b[38;5;124m\"\u001b[39m\u001b[38;5;124mdata\u001b[39m\u001b[38;5;124m\"\u001b[39m}:\n\u001b[0;32m    255\u001b[0m   \u001b[38;5;66;03m# TODO(wangpeng): Export the enable_numpy_behavior knob\u001b[39;00m\n\u001b[0;32m    256\u001b[0m   \u001b[38;5;28;01mraise\u001b[39;00m \u001b[38;5;167;01mAttributeError\u001b[39;00m(\n\u001b[0;32m    257\u001b[0m       \u001b[38;5;124mf\u001b[39m\u001b[38;5;124m\"\u001b[39m\u001b[38;5;132;01m{\u001b[39;00m\u001b[38;5;28mtype\u001b[39m(\u001b[38;5;28mself\u001b[39m)\u001b[38;5;241m.\u001b[39m\u001b[38;5;18m__name__\u001b[39m\u001b[38;5;132;01m}\u001b[39;00m\u001b[38;5;124m object has no attribute \u001b[39m\u001b[38;5;124m'\u001b[39m\u001b[38;5;132;01m{\u001b[39;00mname\u001b[38;5;132;01m}\u001b[39;00m\u001b[38;5;124m'\u001b[39m\u001b[38;5;124m. \u001b[39m\u001b[38;5;124m\"\u001b[39m \u001b[38;5;241m+\u001b[39m \u001b[38;5;124m\"\"\"\u001b[39m\n\u001b[0;32m    258\u001b[0m \u001b[38;5;124m    If you are looking for numpy-related methods, please run the following:\u001b[39m\n\u001b[0;32m    259\u001b[0m \u001b[38;5;124m    tf.experimental.numpy.experimental_enable_numpy_behavior()\u001b[39m\n\u001b[0;32m    260\u001b[0m \u001b[38;5;124m  \u001b[39m\u001b[38;5;124m\"\"\"\u001b[39m)\n\u001b[1;32m--> 261\u001b[0m \u001b[38;5;28;43mself\u001b[39;49m\u001b[38;5;241;43m.\u001b[39;49m\u001b[38;5;21;43m__getattribute__\u001b[39;49m\u001b[43m(\u001b[49m\u001b[43mname\u001b[49m\u001b[43m)\u001b[49m\n",
      "\u001b[1;31mAttributeError\u001b[0m: 'tensorflow.python.framework.ops.EagerTensor' object has no attribute 'assign'"
     ]
    }
   ],
   "source": [
    "const_tensor[0].assign(8)\n",
    "print(const_tensor)"
   ]
  },
  {
   "cell_type": "markdown",
   "id": "3f6e7b97-b987-4de1-8389-722ae25fa3bd",
   "metadata": {},
   "source": [
    "This operation clearly shows that constant tensors does not support item assignment."
   ]
  },
  {
   "cell_type": "markdown",
   "id": "4051140a-ce28-488e-8ade-ecb81a64965d",
   "metadata": {},
   "source": [
    "# Working with random tensors in Tensorflow\n",
    "So, the first question which comes to our mind is what is a random tensor and what is it used for ?. \n",
    "\n",
    "So, Random tensors are tensors of some arbitrary size which contain random numbers. One of the common application of random tensors is to initalize weights in a neural network."
   ]
  },
  {
   "cell_type": "code",
   "execution_count": 12,
   "id": "8261058c-33d0-47bb-9bb0-8c821fdd1344",
   "metadata": {},
   "outputs": [
    {
     "data": {
      "text/plain": [
       "<tf.Tensor: shape=(3, 2), dtype=float32, numpy=\n",
       "array([[-0.7565803 , -0.06854702],\n",
       "       [ 0.07595026, -1.2573844 ],\n",
       "       [-0.23193763, -1.8107855 ]], dtype=float32)>"
      ]
     },
     "execution_count": 12,
     "metadata": {},
     "output_type": "execute_result"
    }
   ],
   "source": [
    "# Let's create the random tensors\n",
    "random1 = tf.random.Generator.from_seed(42)\n",
    "random1 = random1.normal(shape=(3, 2))\n",
    "random1"
   ]
  },
  {
   "cell_type": "code",
   "execution_count": null,
   "id": "30076f0f-90cb-4445-a315-6aef9fd1fc1d",
   "metadata": {},
   "outputs": [],
   "source": []
  }
 ],
 "metadata": {
  "kernelspec": {
   "display_name": "Python 3 (ipykernel)",
   "language": "python",
   "name": "python3"
  },
  "language_info": {
   "codemirror_mode": {
    "name": "ipython",
    "version": 3
   },
   "file_extension": ".py",
   "mimetype": "text/x-python",
   "name": "python",
   "nbconvert_exporter": "python",
   "pygments_lexer": "ipython3",
   "version": "3.10.9"
  }
 },
 "nbformat": 4,
 "nbformat_minor": 5
}
