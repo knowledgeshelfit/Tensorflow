{
 "cells": [
  {
   "cell_type": "markdown",
   "id": "6de1fad7-6c29-4679-8d70-40f68c3250d8",
   "metadata": {},
   "source": [
    "# Exploring Tensor Fundamentals with TensorFlow Library\n",
    "In the realm of artificial intelligence (AI), machine learning (ML), and deep learning (DL), tensors serve as the fundamental building blocks for representing and manipulating data. With the advent of powerful libraries like TensorFlow, developers and researchers have gained access to robust tools and frameworks for working with tensors effectively. In this blog post, we will embark on a journey to explore the fundamental concepts of tensors and their applications within the TensorFlow library.\n",
    "## Understanding Tensors: The Foundation of Data Representation\n",
    "At its core, a tensor is a multi-dimensional array or matrix that can hold numerical data of various types. Tensors come in different shapes and sizes, ranging from scalars (0-dimensional tensors) to vectors (1-dimensional tensors), matrices (2-dimensional tensors), and higher-dimensional arrays. Each dimension of a tensor represents a different mode or aspect of the data, allowing for rich and expressive data representations.\n",
    "## Introduction to TensorFlow: A Powerful Deep Learning Framework\n",
    "TensorFlow, developed by Google Brain, is one of the most widely used and comprehensive deep learning frameworks available today. At its heart, TensorFlow revolves around the concept of tensors, providing a versatile and efficient platform for building, training, and deploying machine learning models. With its extensive suite of APIs and tools, TensorFlow empowers developers to unleash the full potential of tensors in solving a wide range of AI and ML tasks."
   ]
  },
  {
   "cell_type": "markdown",
   "id": "8fca9d5a-3627-4ccf-a432-a539e8ff1939",
   "metadata": {},
   "source": [
    "# Tensor Fundamentals with Tensorflow Library\n",
    "Hi guys welcome to the new blog. In this blog we are going to cover some of the fundamental concepts of tensors using Tensorflow.\n",
    "Topics that we are going to cover,\n",
    "- Introduction to tensors\n",
    "- Getting information from tensors\n",
    "- Tensor manipulation \n",
    "- Using @tf.function(boost up the regular Python functions)\n",
    "\n",
    "Now, let's start by importing the Tensorflow library,"
   ]
  },
  {
   "cell_type": "code",
   "execution_count": 1,
   "id": "b5fa63c5-95fe-4dba-8fd1-22fd2963ca62",
   "metadata": {},
   "outputs": [
    {
     "name": "stdout",
     "output_type": "stream",
     "text": [
      "2.14.0\n"
     ]
    }
   ],
   "source": [
    "# Import Tensorflow\n",
    "import tensorflow as tf\n",
    "print(tf.__version__)"
   ]
  },
  {
   "cell_type": "markdown",
   "id": "22ea3e0e-cf55-44b1-a15b-361ad41fc796",
   "metadata": {},
   "source": [
    "## Creating tensors with tf.constant()\n",
    "- tf.constant() is a tensorflow function which helps you creates a constant tensors.\n",
    "\n",
    "There are different types of tensors like scalar, vector, matrices etc... Let's start with the `Scaler Tensor`."
   ]
  },
  {
   "cell_type": "code",
   "execution_count": 2,
   "id": "b04fc2c2-3da6-4f6d-8b27-c931ef0986f2",
   "metadata": {},
   "outputs": [
    {
     "data": {
      "text/plain": [
       "<tf.Tensor: shape=(), dtype=int32, numpy=7>"
      ]
     },
     "execution_count": 2,
     "metadata": {},
     "output_type": "execute_result"
    }
   ],
   "source": [
    "scalar = tf.constant(7)\n",
    "scalar"
   ]
  },
  {
   "cell_type": "markdown",
   "id": "2cb1cf52-cfc8-4721-9c4f-8cd7b0263006",
   "metadata": {},
   "source": [
    "Now, let's try to understand the ouput of `tf.constant()`.\n",
    "- `<tf.Tensor:` defines that it's a tensor.\n",
    "- `shape=()` funtion gives you the information about the shape.\n",
    "- `dtype=int32` gives you the information about the datatype of the tensor\n",
    "- `numpy=7` defines the constant input value of the tensor\n",
    "\n",
    "Now, let's try to extract some of the information from the tensor. Let's start with the number of dimensions of a tensor and `ndim` attribute will help you get this information."
   ]
  },
  {
   "cell_type": "code",
   "execution_count": 3,
   "id": "0e4a4489-45fc-4c54-893e-a454ad8557b0",
   "metadata": {},
   "outputs": [
    {
     "data": {
      "text/plain": [
       "0"
      ]
     },
     "execution_count": 3,
     "metadata": {},
     "output_type": "execute_result"
    }
   ],
   "source": [
    "scalar.ndim"
   ]
  },
  {
   "cell_type": "markdown",
   "id": "b60a3791-03ac-4673-807d-206c273d5618",
   "metadata": {},
   "source": [
    "- 0 means scalar type tensors has 0 dimensions.\n",
    "\n",
    "Now, the next type of tensor is vector, let's see how we can create the `Vector` type tensor in Tensorflow. "
   ]
  },
  {
   "cell_type": "code",
   "execution_count": 4,
   "id": "8f5d75ff-7163-424a-9afe-f67a89053466",
   "metadata": {},
   "outputs": [
    {
     "data": {
      "text/plain": [
       "<tf.Tensor: shape=(2,), dtype=int32, numpy=array([20, 20])>"
      ]
     },
     "execution_count": 4,
     "metadata": {},
     "output_type": "execute_result"
    }
   ],
   "source": [
    "## Create a vector\n",
    "vec = tf.constant([20, 20])\n",
    "vec"
   ]
  },
  {
   "cell_type": "markdown",
   "id": "32c6296d-bfbd-4bda-b903-02b05cbab423",
   "metadata": {},
   "source": [
    "Now, let's try to understand the ouput of `tf.constant()` this time.\n",
    "- `<tf.Tensor:` defines that it's a tensor.\n",
    "- `shape=(2,)` funtion gives you the information about the shape which is 1 and number objects which is 2.\n",
    "- `dtype=int32` gives you the information about the datatype of the tensor\n",
    "- `numpy=array([20, 20])` defines the constant input values of the tensor\n",
    "\n",
    "you can also verify the `shape` of the vector tensor through `ndim` attribute."
   ]
  },
  {
   "cell_type": "code",
   "execution_count": 6,
   "id": "1b4f4951-06b6-4fc2-b679-7b327c0d7a08",
   "metadata": {},
   "outputs": [
    {
     "data": {
      "text/plain": [
       "1"
      ]
     },
     "execution_count": 6,
     "metadata": {},
     "output_type": "execute_result"
    }
   ],
   "source": [
    "# Check the dimension of our vector\n",
    "vec.ndim"
   ]
  },
  {
   "cell_type": "markdown",
   "id": "26ce2dc6-9b0f-4913-a730-31f49914b7cb",
   "metadata": {},
   "source": [
    "now, this output value `1` proves the above mention point that vector type tensor is one dimensional tensor.\n",
    "Let's move on this time we are going to create a matrix type tensor."
   ]
  },
  {
   "cell_type": "code",
   "execution_count": 7,
   "id": "3d6cf855-c2e1-40fd-9153-d131499c11bb",
   "metadata": {},
   "outputs": [
    {
     "data": {
      "text/plain": [
       "<tf.Tensor: shape=(2, 2), dtype=int32, numpy=\n",
       "array([[10, 20],\n",
       "       [20, 10]])>"
      ]
     },
     "execution_count": 7,
     "metadata": {},
     "output_type": "execute_result"
    }
   ],
   "source": [
    "# Create a matrix\n",
    "mat = tf.constant([[10, 20],\n",
    "                   [20, 10]])\n",
    "\n",
    "mat"
   ]
  },
  {
   "cell_type": "markdown",
   "id": "ef2ddcbf-6dff-4284-ab71-b756e118712b",
   "metadata": {},
   "source": [
    "Now, let's try to understand the ouput of matrix type tensor,\n",
    "- `<tf.Tensor:` defines that it's a tensor.\n",
    "- `shape=(2, 2)` funtion gives you the information about the shape which is 2 and number objects which is 4.\n",
    "- `dtype=int32` gives you the information about the datatype of the tensor\n",
    "- `array([[10, 20],[20, 10]])` defines the constant input values of the matrix tensor\n",
    "\n",
    "let's check the number of dimensions of matrix tensor,"
   ]
  },
  {
   "cell_type": "code",
   "execution_count": 8,
   "id": "de704017-0192-4091-a277-5cd0900267bf",
   "metadata": {},
   "outputs": [
    {
     "data": {
      "text/plain": [
       "2"
      ]
     },
     "execution_count": 8,
     "metadata": {},
     "output_type": "execute_result"
    }
   ],
   "source": [
    "mat.ndim"
   ]
  },
  {
   "cell_type": "markdown",
   "id": "74f69c42-2a67-47b8-a4db-a55e6d95eed5",
   "metadata": {},
   "source": [
    "now, this output value 2 proves the above mention point that matrix tensor is a 2D tensor. This time we are going to try something different. Let's try to change some infomation in the tensor. we are going to chage the `dtype` and for that I am going to create a new matrix tensor."
   ]
  },
  {
   "cell_type": "code",
   "execution_count": 9,
   "id": "868a528c-452b-4a3e-a331-a3f36925e45c",
   "metadata": {},
   "outputs": [
    {
     "data": {
      "text/plain": [
       "<tf.Tensor: shape=(3, 2), dtype=float16, numpy=\n",
       "array([[10., 20.],\n",
       "       [30., 40.],\n",
       "       [50., 60.]], dtype=float16)>"
      ]
     },
     "execution_count": 9,
     "metadata": {},
     "output_type": "execute_result"
    }
   ],
   "source": [
    "# Create another matrix\n",
    "mat2 = tf.constant([[10., 20.],\n",
    "                    [30., 40.],\n",
    "                    [50., 60.]], dtype=tf.float16)\n",
    "\n",
    "mat2"
   ]
  },
  {
   "cell_type": "markdown",
   "id": "ac5bca94-8e28-4349-86c2-afbf2d3c3ece",
   "metadata": {},
   "source": [
    "now, this time something intresting happened. If you see the output of `mat2` closely then you realise that this time `dtype` is `dtype=float16`, which means 32-bit is the default bit precision of tensorflow library. One more point is that this time in the mat2 tensor number of input values are 3 but the number of dimentions are still same which is 2 and you can verify this by executing the `mat2.ndim` statement."
   ]
  },
  {
   "cell_type": "code",
   "execution_count": 10,
   "id": "0713803f-7067-48ae-ba07-778f693bb0cd",
   "metadata": {},
   "outputs": [
    {
     "data": {
      "text/plain": [
       "2"
      ]
     },
     "execution_count": 10,
     "metadata": {},
     "output_type": "execute_result"
    }
   ],
   "source": [
    "mat2.ndim"
   ]
  },
  {
   "cell_type": "markdown",
   "id": "375d0c11-618c-4cd6-bf3e-f34eeb1ce1d4",
   "metadata": {},
   "source": [
    "Until now we have seen that `scaler` is 0D tensor, `vector` is 1D tensor and `matrix` is 2D tensor. Now we are going to see how we can create a `nDimensional` tensor.    "
   ]
  },
  {
   "cell_type": "code",
   "execution_count": 13,
   "id": "6a2a0208-7cf5-407d-809c-5aea8c026f8e",
   "metadata": {},
   "outputs": [
    {
     "data": {
      "text/plain": [
       "<tf.Tensor: shape=(3, 2, 3), dtype=int32, numpy=\n",
       "array([[[11, 12, 13],\n",
       "        [14, 15, 16]],\n",
       "\n",
       "       [[17, 18, 19],\n",
       "        [20, 21, 22]],\n",
       "\n",
       "       [[23, 24, 25],\n",
       "        [27, 28, 29]]])>"
      ]
     },
     "execution_count": 13,
     "metadata": {},
     "output_type": "execute_result"
    }
   ],
   "source": [
    "t1 = tf.constant([[[11, 12, 13],\n",
    "                   [14, 15, 16]],\n",
    "                  [[17, 18, 19],\n",
    "                   [20, 21, 22]],\n",
    "                  [[23, 24, 25],\n",
    "                   [27, 28, 29]]])\n",
    "\n",
    "t1"
   ]
  },
  {
   "cell_type": "markdown",
   "id": "617de103-d6d9-4a8c-8302-d8c12ac11553",
   "metadata": {},
   "source": [
    "Now, let's try to understand the ouput of ndim matrix tensor,\n",
    "- `<tf.Tensor:` defines that it's a tensor.\n",
    "- `shape=(3, 2, 3)` funtion gives you the information about the shape which is 3 and number objects which is 18.\n",
    "- `dtype=int32` gives you the information about the datatype of the tensor\n",
    "- `array([[[11, 12, 13], [14, 15, 16]], [[17, 18, 19], [20, 21, 22]], [[23, 24, 25], [27, 28, 29]]])` defines the constant input values of the matrix tensor\n",
    "\n",
    "let's check the number of dimensions of ndim matrix tensor,"
   ]
  },
  {
   "cell_type": "code",
   "execution_count": 14,
   "id": "154ba49f-5c11-46cb-a8f4-018ad45ea8ef",
   "metadata": {},
   "outputs": [
    {
     "data": {
      "text/plain": [
       "3"
      ]
     },
     "execution_count": 14,
     "metadata": {},
     "output_type": "execute_result"
    }
   ],
   "source": [
    "t1.ndim"
   ]
  },
  {
   "cell_type": "markdown",
   "id": "36a69eb6-54c0-43de-9224-1de2019abaee",
   "metadata": {},
   "source": [
    "# Conclusion\n",
    "So, in this blog we have learned that how we can create different type of tensors with the help of `tf.constant()` funtion. we have created scaler which is 0D tensor, vector which is 1D tensor, matrix which is 2D tensor and in the end we have create a n-dimensional tensor. Hope you have enjoyed this blog.If you have any question or comments you can write in the comment section. Thanks!!!\n",
    "\n",
    "Happy Coding!!!"
   ]
  },
  {
   "cell_type": "code",
   "execution_count": null,
   "id": "f002440e-6ec3-4a8e-8e1e-8aea8a3c597e",
   "metadata": {},
   "outputs": [],
   "source": []
  }
 ],
 "metadata": {
  "kernelspec": {
   "display_name": "Python 3 (ipykernel)",
   "language": "python",
   "name": "python3"
  },
  "language_info": {
   "codemirror_mode": {
    "name": "ipython",
    "version": 3
   },
   "file_extension": ".py",
   "mimetype": "text/x-python",
   "name": "python",
   "nbconvert_exporter": "python",
   "pygments_lexer": "ipython3",
   "version": "3.10.9"
  },
  "toc-showtags": false
 },
 "nbformat": 4,
 "nbformat_minor": 5
}
